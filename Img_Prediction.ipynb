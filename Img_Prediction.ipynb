{
 "cells": [
  {
   "cell_type": "code",
   "execution_count": 1,
   "id": "846ce6bf",
   "metadata": {},
   "outputs": [],
   "source": [
    "import cv2\n",
    "import numpy as np\n",
    "import tensorflow as tf\n",
    "from tensorflow import keras"
   ]
  },
  {
   "cell_type": "code",
   "execution_count": 2,
   "id": "f70eefa4",
   "metadata": {},
   "outputs": [],
   "source": [
    "model = keras.models.load_model('trained_model.keras')"
   ]
  },
  {
   "cell_type": "code",
   "execution_count": 3,
   "id": "f90a3871",
   "metadata": {},
   "outputs": [],
   "source": [
    "# Load and preprocess the evaluation image\n",
    "image_path = 'sample.png'\n",
    "image = cv2.imread(image_path, cv2.IMREAD_GRAYSCALE)\n",
    "image = cv2.resize(image, (28, 28))  # Resize to match model's input size\n",
    "image = image / 255.0  # Normalize pixel values\n",
    "input_image = np.expand_dims(image, axis=-1)  # Add channel dimension\n",
    "input_image = np.expand_dims(input_image, axis=0)  # Add batch dimension\n"
   ]
  },
  {
   "cell_type": "code",
   "execution_count": 4,
   "id": "ef9c5b46",
   "metadata": {},
   "outputs": [
    {
     "name": "stdout",
     "output_type": "stream",
     "text": [
      "1/1 [==============================] - 0s 443ms/step\n"
     ]
    }
   ],
   "source": [
    "# Perform inference on the preprocessed image\n",
    "prediction = model.predict(input_image)\n",
    "predicted_class = np.argmax(prediction)"
   ]
  },
  {
   "cell_type": "code",
   "execution_count": 5,
   "id": "5e293e03",
   "metadata": {},
   "outputs": [
    {
     "name": "stdout",
     "output_type": "stream",
     "text": [
      "Predicted digit: 6\n"
     ]
    }
   ],
   "source": [
    "# Display the original image and the predicted class label\n",
    "cv2.imshow('Evaluation Image', image)\n",
    "print(\"Predicted digit:\", predicted_class)"
   ]
  },
  {
   "cell_type": "code",
   "execution_count": 6,
   "id": "4be02309",
   "metadata": {},
   "outputs": [],
   "source": [
    "cv2.waitKey(0)\n",
    "cv2.destroyAllWindows()"
   ]
  },
  {
   "cell_type": "code",
   "execution_count": null,
   "id": "53a5269c",
   "metadata": {},
   "outputs": [],
   "source": []
  }
 ],
 "metadata": {
  "kernelspec": {
   "display_name": "Python 3 (ipykernel)",
   "language": "python",
   "name": "python3"
  },
  "language_info": {
   "codemirror_mode": {
    "name": "ipython",
    "version": 3
   },
   "file_extension": ".py",
   "mimetype": "text/x-python",
   "name": "python",
   "nbconvert_exporter": "python",
   "pygments_lexer": "ipython3",
   "version": "3.11.4"
  }
 },
 "nbformat": 4,
 "nbformat_minor": 5
}
